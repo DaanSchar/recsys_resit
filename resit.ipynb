{
 "cells": [
  {
   "cell_type": "markdown",
   "metadata": {},
   "source": [
    "## Imports"
   ]
  },
  {
   "cell_type": "code",
   "execution_count": 1,
   "metadata": {},
   "outputs": [],
   "source": [
    "import pandas as pd\n",
    "import random\n",
    "from lenskit.algorithms import Recommender\n",
    "from lenskit.algorithms.user_knn import UserUser\n",
    "from sklearn.model_selection import train_test_split\n",
    "import numpy as np\n",
    "import matplotlib.pyplot as plt\n",
    "\n",
    "import warnings\n",
    "\n",
    "warnings.filterwarnings('ignore')"
   ]
  },
  {
   "cell_type": "markdown",
   "source": [
    "## Parameters"
   ],
   "metadata": {
    "collapsed": false
   }
  },
  {
   "cell_type": "code",
   "execution_count": 2,
   "outputs": [],
   "source": [
    "group_size = 4  # number of users in a group\n",
    "test_size = 0.2  # hold out 20% of the data for testing\n",
    "recommendations_number = 5  # number of recommended items\n",
    "collaborative_filtering = UserUser(15, min_nbrs=3)  # collaborative filtering algorithm\n",
    "approval_voting_threshold = 3.0  # threshold for approval voting strategy\n",
    "binarize_feedback_positive_threshold = 4.0  # if the feedback should be binarize, this denotes the minimal positive value\n",
    "inverse_propensity_gamma = 0.5  # gamma parameter of the inverse propensity weighting."
   ],
   "metadata": {
    "collapsed": false
   }
  },
  {
   "cell_type": "markdown",
   "source": [
    "## Load Data"
   ],
   "metadata": {
    "collapsed": false
   }
  },
  {
   "cell_type": "code",
   "execution_count": 3,
   "outputs": [],
   "source": [
    "ratings = pd.read_csv('ratings.csv')\n",
    "movies = pd.read_csv('movies.csv')\n",
    "\n",
    "train, test = train_test_split(ratings, test_size=test_size, random_state=42, shuffle=True, stratify=ratings[\"user\"])"
   ],
   "metadata": {
    "collapsed": false
   }
  },
  {
   "cell_type": "markdown",
   "source": [
    "## Train Individual Recommender"
   ],
   "metadata": {
    "collapsed": false
   }
  },
  {
   "cell_type": "code",
   "execution_count": 4,
   "outputs": [
    {
     "name": "stderr",
     "output_type": "stream",
     "text": [
      "Numba is using threading layer omp - consider TBB\n",
      "found 1 potential runtime problems - see https://boi.st/lkpy-perf\n"
     ]
    },
    {
     "data": {
      "text/plain": "<lenskit.algorithms.ranking.TopN at 0x1c487cb0a00>"
     },
     "execution_count": 4,
     "metadata": {},
     "output_type": "execute_result"
    }
   ],
   "source": [
    "recsys = Recommender.adapt(collaborative_filtering)\n",
    "recsys.fit(train)"
   ],
   "metadata": {
    "collapsed": false
   }
  },
  {
   "cell_type": "markdown",
   "source": [
    "## Generate Synthetic Groups"
   ],
   "metadata": {
    "collapsed": false
   }
  },
  {
   "cell_type": "code",
   "execution_count": 5,
   "outputs": [],
   "source": [
    "unique_users = list(ratings['user'].unique())\n",
    "groups = [random.sample(unique_users, group_size) for i in range(1000)]"
   ],
   "metadata": {
    "collapsed": false
   }
  },
  {
   "cell_type": "markdown",
   "source": [
    "## Generate and Evaluate Recommendations"
   ],
   "metadata": {
    "collapsed": false
   }
  },
  {
   "cell_type": "markdown",
   "source": [
    "### Helper Functions"
   ],
   "metadata": {
    "collapsed": false
   }
  },
  {
   "cell_type": "code",
   "execution_count": 6,
   "outputs": [],
   "source": [
    "def approval_voting(a, axis=None, out=None, keepdims=np._NoValue, initial=np._NoValue, where=np._NoValue):\n",
    "    return np.sum(a > approval_voting_threshold, axis=axis, out=out, keepdims=keepdims, initial=initial, where=where)\n",
    "\n",
    "\n",
    "def generate_group_recommendations_for_group(group_ratings):\n",
    "    aggregated_df = group_ratings.groupby('item').agg({\"predicted_rating\": [np.max, approval_voting]})\n",
    "    aggregated_df = aggregated_df[\"predicted_rating\"].reset_index()\n",
    "\n",
    "    # most pleasure\n",
    "    mpl_df = aggregated_df.sort_values(by=\"amax\", ascending=False).reset_index()[['item', 'amax']]\n",
    "    mpl_recommendation_list = list(mpl_df.head(recommendations_number)['item'])\n",
    "\n",
    "    # approval voting\n",
    "    apv_df = aggregated_df.sort_values(by=\"approval_voting\", ascending=False).reset_index()[['item', 'approval_voting']]\n",
    "    apv_recommendation_list = list(apv_df.head(recommendations_number)['item'])\n",
    "\n",
    "    return {\n",
    "        \"most_pleasure\": mpl_recommendation_list,\n",
    "        \"approval_voting\": apv_recommendation_list\n",
    "    }\n",
    "\n",
    "\n",
    "def evaluateUserNDCG(user_ground_truth, group_recommendation):\n",
    "    dcg = 0\n",
    "    for k, item in enumerate(group_recommendation):\n",
    "        dcg = dcg + ((user_ground_truth.loc[item, \"final_rating\"] if item in user_ground_truth.index else 0) / np.log2(\n",
    "            k + 2))\n",
    "\n",
    "    idcg = 0\n",
    "    # what if intersection is empty?\n",
    "    user_ground_truth.sort_values(\"final_rating\", inplace=True, ascending=False)\n",
    "    for k in range(min(len(user_ground_truth), len(group_recommendation))):\n",
    "        idcg = idcg + (user_ground_truth.iloc[k][\"final_rating\"] / np.log2(k + 2))\n",
    "    if idcg > 0:\n",
    "        ndcg = dcg / idcg\n",
    "    else:\n",
    "        ndcg = 0\n",
    "\n",
    "    return ndcg"
   ],
   "metadata": {
    "collapsed": false
   }
  },
  {
   "cell_type": "markdown",
   "source": [
    "### Generate and Evaluate"
   ],
   "metadata": {
    "collapsed": false
   }
  },
  {
   "cell_type": "code",
   "execution_count": 7,
   "outputs": [
    {
     "data": {
      "text/plain": "<Figure size 640x480 with 1 Axes>",
      "image/png": "[encoded data removed]"
     },
     "metadata": {},
     "output_type": "display_data"
    }
   ],
   "source": [
    "groups_ndcg = {\n",
    "    \"most_pleasure\": [],\n",
    "    \"approval_voting\": []\n",
    "}\n",
    "\n",
    "for i, group in enumerate(groups):\n",
    "    group_ratings = test.loc[test['user'].isin(group)]\n",
    "    group_ratings['predicted_rating'] = recsys.predict(group_ratings)\n",
    "    group_recommendation = generate_group_recommendations_for_group(group_ratings)\n",
    "\n",
    "    ground_truth = group_ratings.reset_index()[['user', 'item', 'rating']]\n",
    "\n",
    "    group_ndcg = {\n",
    "        \"most_pleasure\": [],\n",
    "        \"approval_voting\": []\n",
    "    }\n",
    "\n",
    "    for user in group:\n",
    "        user_ground_truth = ground_truth.loc[ground_truth['user'] == user]\n",
    "        user_ground_truth['final_rating'] = 0\n",
    "        user_ground_truth.loc[user_ground_truth['rating'] >= binarize_feedback_positive_threshold, 'final_rating'] = 1\n",
    "        group_ndcg[\"approval_voting\"].append(evaluateUserNDCG(user_ground_truth, group_recommendation['approval_voting']))\n",
    "        group_ndcg[\"most_pleasure\"].append(evaluateUserNDCG(user_ground_truth, group_recommendation['most_pleasure']))\n",
    "\n",
    "    groups_ndcg[\"approval_voting\"].append(np.mean(group_ndcg[\"approval_voting\"]))\n",
    "    groups_ndcg[\"most_pleasure\"].append(np.mean(group_ndcg[\"most_pleasure\"]))\n",
    "\n",
    "\n",
    "plt.bar([\"APR\", \"MPL\"], [np.mean(groups_ndcg[\"approval_voting\"]), np.mean(groups_ndcg[\"most_pleasure\"])])\n",
    "plt.show()"
   ],
   "metadata": {
    "collapsed": false
   }
  },
  {
   "cell_type": "markdown",
   "source": [
    "We can see that Approval Voting performs significantly better than Most Pleasure."
   ],
   "metadata": {
    "collapsed": false
   }
  }
 ],
 "metadata": {
  "kernelspec": {
   "display_name": "Python 3 (ipykernel)",
   "language": "python",
   "name": "python3"
  },
  "language_info": {
   "codemirror_mode": {
    "name": "ipython",
    "version": 3
   },
   "file_extension": ".py",
   "mimetype": "text/x-python",
   "name": "python",
   "nbconvert_exporter": "python",
   "pygments_lexer": "ipython3",
   "version": "3.9.6"
  }
 },
 "nbformat": 4,
 "nbformat_minor": 4
}
